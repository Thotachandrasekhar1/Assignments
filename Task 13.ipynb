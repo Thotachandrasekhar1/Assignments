{
 "cells": [
  {
   "cell_type": "markdown",
   "id": "89ffda57",
   "metadata": {},
   "source": [
    "1. Write a function called \"add_numbers\" that takes two integers as input and returns their sum.\n",
    "\n",
    "2. Write a function called \"multiply_numbers\" that takes two integers as input and returns their product.\n",
    "\n",
    "3. Write a function called \"calculate_average\" that takes a list of numbers as input and returns the average of thosenumbers.\n",
    "\n",
    "4. Write a function called \"is_even\" that takes an integer as input and returns True if the number is even, and False otherwise.\n",
    "\n",
    "5. Write a function called \"reverse_string\" that takes a string as input and returns the reverse of that string.\n",
    "\n",
    "6. Write a function called \"count_vowels\" that takes a string as input and returns the number of vowels (a, e, i, o, u) in that string.\n",
    "\n",
    "7. Write a function called \"find_max\" that takes a list of numbers as input and returns the maximum value in that list.\n",
    "\n",
    "8. Write a function called \"find_min\" that takes a list of numbers as input and returns the minimum value in that list."
   ]
  },
  {
   "cell_type": "markdown",
   "id": "ce2e1017",
   "metadata": {},
   "source": [
    "Write a function called \"add_numbers\" that takes two integers as input and returns their sum."
   ]
  },
  {
   "cell_type": "code",
   "execution_count": 1,
   "id": "df9de447",
   "metadata": {},
   "outputs": [
    {
     "name": "stdout",
     "output_type": "stream",
     "text": [
      "40\n"
     ]
    }
   ],
   "source": [
    "def add_numbers(a,b):\n",
    "    print(a+b)\n",
    "add_numbers(20,20)\n",
    "    "
   ]
  },
  {
   "cell_type": "code",
   "execution_count": 3,
   "id": "e2bbc4af",
   "metadata": {},
   "outputs": [
    {
     "name": "stdout",
     "output_type": "stream",
     "text": [
      "40\n"
     ]
    }
   ],
   "source": [
    "def multiply_numbers(a,b):\n",
    "    print(a*b)\n",
    "multiply_numbers(20,2)"
   ]
  },
  {
   "cell_type": "code",
   "execution_count": 5,
   "id": "67efd513",
   "metadata": {},
   "outputs": [
    {
     "name": "stdout",
     "output_type": "stream",
     "text": [
      "3.5\n"
     ]
    }
   ],
   "source": [
    "def calculate_average(a,b,c,d,e,f):\n",
    "    print((a+b+c+d+e+f)/6)\n",
    "calculate_average(1,2,3,4,5,6)    "
   ]
  },
  {
   "cell_type": "markdown",
   "id": "6a338a38",
   "metadata": {},
   "source": [
    "\n",
    "Write a function called \"is_even\" that takes an integer as input and returns True if the number is even, and False otherwise"
   ]
  },
  {
   "cell_type": "code",
   "execution_count": 6,
   "id": "6e020f4f",
   "metadata": {},
   "outputs": [
    {
     "name": "stdout",
     "output_type": "stream",
     "text": [
      "True\n"
     ]
    }
   ],
   "source": [
    "def is_even(a):\n",
    "    if a%2==0:\n",
    "        print(\"True\")\n",
    "    else:\n",
    "        print(\"False\")\n",
    "is_even(2)"
   ]
  },
  {
   "cell_type": "code",
   "execution_count": 7,
   "id": "484b52ad",
   "metadata": {},
   "outputs": [
    {
     "name": "stdout",
     "output_type": "stream",
     "text": [
      "False\n"
     ]
    }
   ],
   "source": [
    "def is_even(a):\n",
    "    if a%2==0:\n",
    "        print(\"True\")\n",
    "    else:\n",
    "        print(\"False\")\n",
    "is_even(7)"
   ]
  },
  {
   "cell_type": "markdown",
   "id": "f6dbdb16",
   "metadata": {},
   "source": [
    "Write a function called \"reverse_string\" that takes a string as input and returns the reverse of that string"
   ]
  },
  {
   "cell_type": "code",
   "execution_count": 12,
   "id": "0b1a2d52",
   "metadata": {},
   "outputs": [
    {
     "name": "stdout",
     "output_type": "stream",
     "text": [
      "pmahc udnahc\n"
     ]
    }
   ],
   "source": [
    "def reverse_string(x):\n",
    "    print(x[::-1])\n",
    "reverse_string(\"chandu champ\")\n",
    "    "
   ]
  },
  {
   "cell_type": "markdown",
   "id": "b07212b6",
   "metadata": {},
   "source": [
    "\n",
    "Write a function called \"count_vowels\" that takes a string as input and returns the number of vowels (a, e, i, o, u) in that string"
   ]
  },
  {
   "cell_type": "code",
   "execution_count": 25,
   "id": "55cc4893",
   "metadata": {
    "scrolled": true
   },
   "outputs": [
    {
     "name": "stdout",
     "output_type": "stream",
     "text": [
      "11\n"
     ]
    }
   ],
   "source": [
    "vowels=[\"a\",\"e\",\"i\",\"o\",\"u\"]\n",
    "a=[]\n",
    "def count_vowels(x):\n",
    "    for i in x:\n",
    "        if i in vowels:\n",
    "            a.append(i)\n",
    "    print(len(a))\n",
    "count_vowels(\"oxford iit foundation school\")\n",
    "        "
   ]
  },
  {
   "cell_type": "markdown",
   "id": "7f1f4acd",
   "metadata": {},
   "source": [
    "Write a function called \"find_max\" that takes a list of numbers as input and returns the maximum value in that list"
   ]
  },
  {
   "cell_type": "code",
   "execution_count": 27,
   "id": "810ecaeb",
   "metadata": {},
   "outputs": [
    {
     "name": "stdout",
     "output_type": "stream",
     "text": [
      "43\n"
     ]
    }
   ],
   "source": [
    "def find_max(x):\n",
    "    print(max(x))\n",
    "find_max([1,2,3,4,5,6,5,43,8])"
   ]
  },
  {
   "cell_type": "markdown",
   "id": "2ec03b49",
   "metadata": {},
   "source": [
    "Write a function called \"find_min\" that takes a list of numbers as input and returns the minimum value in that list"
   ]
  },
  {
   "cell_type": "code",
   "execution_count": 29,
   "id": "ca4bba9e",
   "metadata": {},
   "outputs": [
    {
     "name": "stdout",
     "output_type": "stream",
     "text": [
      "1\n"
     ]
    }
   ],
   "source": [
    "def find_min(x):\n",
    "    print(min(x))\n",
    "find_min([1,2,3,4,5,6,2,4,5,5,5,])"
   ]
  },
  {
   "cell_type": "code",
   "execution_count": null,
   "id": "6c5b6f8f",
   "metadata": {},
   "outputs": [],
   "source": []
  }
 ],
 "metadata": {
  "kernelspec": {
   "display_name": "Python 3 (ipykernel)",
   "language": "python",
   "name": "python3"
  },
  "language_info": {
   "codemirror_mode": {
    "name": "ipython",
    "version": 3
   },
   "file_extension": ".py",
   "mimetype": "text/x-python",
   "name": "python",
   "nbconvert_exporter": "python",
   "pygments_lexer": "ipython3",
   "version": "3.11.4"
  }
 },
 "nbformat": 4,
 "nbformat_minor": 5
}
