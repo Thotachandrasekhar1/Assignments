{
 "cells": [
  {
   "cell_type": "markdown",
   "id": "c9fb96f1",
   "metadata": {},
   "source": [
    "In this assignment, you will create a Python program to calculate the average grade of students in a function. However, the program should handle various exceptions that might occur during user input and grade calculation.\n",
    "**Requirements:**\n",
    "1. Your program should prompt the user to enter the total number of students.\n",
    "2. For each student, prompt the user to enter their name and three subject marks (out of 100).\n",
    "3. Handle the following exceptions\n",
    ":\n",
    "    a. ValueError: If the user enters a non-numeric value for the number of students or subject marks.\n",
    "    b. ZeroDivisionError: If any student's average marks cannot be calculated due to division by zero (e.g., no subject marks\n",
    "provided). c. NegativeValueError: If any student's marks are negative.\n",
    "4. Display appropriate error messages for each exception and prompt the user to try again.\n",
    "5. Use a try-except block for exception handling.\n",
    "6. Calculate the average marks for each student and display their names along with their average marks.\n",
    "7. Calculate and display the overall class average.\n",
    "8. Implement a loop so that the user can re-enter data if an exception occurs or continue calculating for another class.\n",
    "9. Include a graceful exit message when the user decides to stop.\n",
    "\n",
    "**Custom(User Defined) Exceptions:**\n",
    "Define two custom exception classes:\n",
    "1. `NegativeValueError: This exception should be raised when any of the subject marks are negative.\n",
    "2. `InvalidNumber Error: This exception should be raised when the user enters an invalid number for the total number of students (e.g., a negative number)."
   ]
  },
  {
   "cell_type": "code",
   "execution_count": 20,
   "id": "978b3926",
   "metadata": {},
   "outputs": [],
   "source": [
    "class NegativeValueError(Exception):\n",
    "    pass\n",
    "class InvalidNumberError(Exception):\n",
    "    pass \n",
    "\n"
   ]
  },
  {
   "cell_type": "code",
   "execution_count": 29,
   "id": "d60a6593",
   "metadata": {},
   "outputs": [
    {
     "name": "stdout",
     "output_type": "stream",
     "text": [
      "Enter total number of students: 3\n",
      "Enter name of the student: chandu\n",
      "Enter marks out of 100 for subject 1: 80\n",
      "Enter marks out of 100 for subject 2: 90\n",
      "Enter marks out of 100 for subject 3: 90\n",
      "Student name is chandu and 3 subject marks are 86.66666666666667\n",
      "Enter name of the student: vignesh\n",
      "Enter marks out of 100 for subject 1: 90\n",
      "Enter marks out of 100 for subject 2: 90\n",
      "Enter marks out of 100 for subject 3: 90\n",
      "Student name is vignesh and 3 subject marks are 90.0\n",
      "Enter name of the student: tanvi\n",
      "Enter marks out of 100 for subject 1: 90\n",
      "Enter marks out of 100 for subject 2: 89\n",
      "Enter marks out of 100 for subject 3: 90\n",
      "Student name is tanvi and 3 subject marks are 89.66666666666667\n",
      "The average marks of all students in class is:  88.77777777777779\n",
      "******************** Congratulation. Wish you all the luck for future ********************\n"
     ]
    }
   ],
   "source": [
    "class NegativeValueError(Exception):\n",
    "    pass\n",
    "class InvalidNumberError(Exception):\n",
    "    pass\n",
    "student_avg = []\n",
    "classavg =[]\n",
    "avg_marks =[]\n",
    "\n",
    "try:\n",
    "    \n",
    "    ts = int(input(\"Enter total number of students: \"))\n",
    "    if ts <0 or ts>100:\n",
    "        raise InvalidNumberError(\"Provide correct Number of Students\")\n",
    "    for i in range(1,ts+1):\n",
    "        name = input(\"Enter name of the student: \")\n",
    "        sm1 = int(input(\"Enter marks out of 100 for subject 1: \"))\n",
    "        sm2 = int(input(\"Enter marks out of 100 for subject 2: \"))\n",
    "        sm3 = int(input(\"Enter marks out of 100 for subject 3: \"))\n",
    "        if (sm1<0 or sm1>100) or (sm2<0 or sm2>100) or (sm3<0 or sm3 >100):\n",
    "            raise InvalidNumberError(\"Provide correct Marks of Students\")\n",
    "        student_avg = (sm1+sm2+sm3)/3\n",
    "        avg_marks.append(student_avg)\n",
    "        print(f\"Student name is {name} and 3 subject marks are {student_avg}\")\n",
    "    classavg = sum(avg_marks)/len(avg_marks)\n",
    "    print(\"The average marks of all students in class is: \", classavg)\n",
    "except ValueError :\n",
    "    print(\"please enter a numeric values\")\n",
    "except ZeroDivisionError:\n",
    "    print(\"please provide a valid details\")\n",
    "except NegativeValueError:\n",
    "    print(\"please enter a positive numbers only\")\n",
    "finally:\n",
    "    print(\"*\" * 20 ,\"Congratulation. Wish you all the luck for future\", \"*\" * 20)\n"
   ]
  },
  {
   "cell_type": "code",
   "execution_count": null,
   "id": "88617868",
   "metadata": {},
   "outputs": [],
   "source": []
  }
 ],
 "metadata": {
  "kernelspec": {
   "display_name": "Python 3 (ipykernel)",
   "language": "python",
   "name": "python3"
  },
  "language_info": {
   "codemirror_mode": {
    "name": "ipython",
    "version": 3
   },
   "file_extension": ".py",
   "mimetype": "text/x-python",
   "name": "python",
   "nbconvert_exporter": "python",
   "pygments_lexer": "ipython3",
   "version": "3.11.4"
  }
 },
 "nbformat": 4,
 "nbformat_minor": 5
}
