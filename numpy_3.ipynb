{
 "cells": [
  {
   "cell_type": "markdown",
   "id": "cc8d4d50",
   "metadata": {},
   "source": [
    "### Data Cleaning using numpy"
   ]
  },
  {
   "cell_type": "markdown",
   "id": "a9f62f05",
   "metadata": {},
   "source": [
    "**The following are the student marks of a class**\n",
    "[44,24,np.nan,59,32,96,188,52,62,58,52,120,np.nan,np.nan,3,56,81,59,,122,92,np.nan,87,96,97,1,19,2,53, 44]\n",
    "\n"
   ]
  },
  {
   "cell_type": "markdown",
   "id": "69b2a360",
   "metadata": {},
   "source": [
    "1. Find the no of outliers and missing values?\n",
    "2. replace the outliers with 45 and missing value with 87.\n",
    "3. what is the average marks of students after 2nd step?\n",
    "4. How many students got less than 60 marks?\n",
    "5. what is the maximum marks?\n",
    "6. Convert the marks to float32."
   ]
  },
  {
   "cell_type": "markdown",
   "id": "3692b4ec",
   "metadata": {},
   "source": [
    "### Solving Linear Equations"
   ]
  },
  {
   "cell_type": "markdown",
   "id": "b5172cfe",
   "metadata": {},
   "source": [
    "\n",
    "    \n",
    "1. 2x + 3y - z = 10\n",
    "\n",
    "    x - y + 2z = 5\n",
    "    \n",
    "    3x + 2y + z = 12\n",
    "    \n",
    "    \n",
    "    \n",
    "2. 2x + y - z + 3w = 8\n",
    "\n",
    "    3x - 2y + 2z + 2w = 1\n",
    "    \n",
    "    x + 3y - 2z + w = 7\n",
    "    \n",
    "    4x - y + z - 2w = 3\n",
    "   \n",
    "   \n",
    "   \n",
    "3. 4x + 2y - 3z = 10\n",
    "\n",
    "    -2x + 3y + z = -3\n",
    "    \n",
    "    x - y + 2z = 4\n",
    "    \n",
    "Solve the system of equations using NumPy's linalg.solve function.\n"
   ]
  },
  {
   "cell_type": "markdown",
   "id": "5bebe166",
   "metadata": {},
   "source": [
    "### Conditional Selection with np.where()"
   ]
  },
  {
   "cell_type": "markdown",
   "id": "036735c5",
   "metadata": {},
   "source": [
    "\n",
    "1.\tGenerate a random 1D array A of 10 integers between 1 and 100.\n",
    "\n",
    "2.\tUse np.where() to find the indices where the elements of A are greater than 50.\n",
    "\n",
    "3.\tCreate a new array B that contains elements from A where the condition is met.\n",
    "\n",
    "4.\tCalculate the mean of array B and print it along with arrays A and B."
   ]
  },
  {
   "cell_type": "markdown",
   "id": "f935d75b",
   "metadata": {},
   "source": [
    "### Replace Values with np.where()"
   ]
  },
  {
   "cell_type": "markdown",
   "id": "9c5ac3b7",
   "metadata": {},
   "source": [
    "1.\tCreate a 4x4 random integer matrix C with values between -10 and 10.\n",
    "\n",
    "2.\tUse np.where() to replace all negative values in matrix C with 0.\n",
    "\n",
    "3.\tPrint the original matrix C and the modified matrix."
   ]
  },
  {
   "cell_type": "markdown",
   "id": "0ecf644f",
   "metadata": {},
   "source": [
    "***Data Cleaning using numpy***\n",
    "The following are the student marks of a class [44,24,np.nan,59,32,96,188,52,62,58,52,120,np.nan,np.nan,3,56,81,59,,122,92,np.nan,87,96,97,1,19,2,53, 44]\n",
    "\n",
    "Find the no of outliers and missing values?\n",
    "replace the outliers with 45 and missing value with 87.\n",
    "what is the average marks of students after 2nd step?\n",
    "How many students got less than 60 marks?\n",
    "what is the maximum marks?\n",
    "Convert the marks to float32."
   ]
  },
  {
   "cell_type": "code",
   "execution_count": 3,
   "id": "1a4d0792",
   "metadata": {},
   "outputs": [],
   "source": [
    "import numpy as np"
   ]
  },
  {
   "cell_type": "code",
   "execution_count": 26,
   "id": "002c2522",
   "metadata": {},
   "outputs": [
    {
     "data": {
      "text/plain": [
       "array([ 44.,  24.,  nan,  59.,  32.,  96., 188.,  52.,  62.,  58.,  52.,\n",
       "       120.,  nan,  nan,   3.,  56.,  81.,  59., 122.,  92.,  nan,  87.,\n",
       "        96.,  97.,   1.,  19.,   2.,  53.,  40.])"
      ]
     },
     "execution_count": 26,
     "metadata": {},
     "output_type": "execute_result"
    }
   ],
   "source": [
    "marks=np.array([44,24,np.nan,59,32,96,188,52,62,58,52,120,np.nan,np.nan,3,56,81,59,122,92,np.nan,87,96,97,1,19,2,53,40])\n",
    "marks"
   ]
  },
  {
   "cell_type": "code",
   "execution_count": 27,
   "id": "ce43bbfa",
   "metadata": {},
   "outputs": [
    {
     "data": {
      "text/plain": [
       "4"
      ]
     },
     "execution_count": 27,
     "metadata": {},
     "output_type": "execute_result"
    }
   ],
   "source": [
    "np.sum(np.isnan(marks))        ##there are 4missing values"
   ]
  },
  {
   "cell_type": "code",
   "execution_count": 28,
   "id": "2ab05866",
   "metadata": {},
   "outputs": [
    {
     "data": {
      "text/plain": [
       "3"
      ]
     },
     "execution_count": 28,
     "metadata": {},
     "output_type": "execute_result"
    }
   ],
   "source": [
    "outliers=(marks<0) | (marks>100)\n",
    "np.sum(outliers)##these are  no.of outliers"
   ]
  },
  {
   "cell_type": "code",
   "execution_count": 29,
   "id": "fb9385b6",
   "metadata": {},
   "outputs": [
    {
     "data": {
      "text/plain": [
       "array([ 44,  24,  87,  59,  32,  96, 188,  52,  62,  58,  52, 120,  87,\n",
       "        87,   3,  56,  81,  59, 122,  92,  87,  87,  96,  97,   1,  19,\n",
       "         2,  53,  40], dtype=int16)"
      ]
     },
     "execution_count": 29,
     "metadata": {},
     "output_type": "execute_result"
    }
   ],
   "source": [
    "marks=(np.where(np.isnan(marks),87,marks).astype('int16'))\n",
    "marks"
   ]
  },
  {
   "cell_type": "code",
   "execution_count": 30,
   "id": "8c633c30",
   "metadata": {},
   "outputs": [
    {
     "data": {
      "text/plain": [
       "array([44, 24, 87, 59, 32, 96, 45, 52, 62, 58, 52, 45, 87, 87,  3, 56, 81,\n",
       "       59, 45, 92, 87, 87, 96, 97,  1, 19,  2, 53, 40], dtype=int16)"
      ]
     },
     "execution_count": 30,
     "metadata": {},
     "output_type": "execute_result"
    }
   ],
   "source": [
    "marks=(np.where(outliers,45,marks).astype('int16'))\n",
    "marks\n"
   ]
  },
  {
   "cell_type": "code",
   "execution_count": 31,
   "id": "6ebaa53b",
   "metadata": {},
   "outputs": [],
   "source": [
    "average_marks=np.mean(marks)"
   ]
  },
  {
   "cell_type": "code",
   "execution_count": 32,
   "id": "5ab3b09d",
   "metadata": {},
   "outputs": [
    {
     "data": {
      "text/plain": [
       "56.827586206896555"
      ]
     },
     "execution_count": 32,
     "metadata": {},
     "output_type": "execute_result"
    }
   ],
   "source": [
    "average_marks"
   ]
  },
  {
   "cell_type": "code",
   "execution_count": 33,
   "id": "2bad55da",
   "metadata": {},
   "outputs": [],
   "source": [
    "less_60=np.sum(marks<60)"
   ]
  },
  {
   "cell_type": "code",
   "execution_count": 34,
   "id": "466fd176",
   "metadata": {},
   "outputs": [
    {
     "data": {
      "text/plain": [
       "18"
      ]
     },
     "execution_count": 34,
     "metadata": {},
     "output_type": "execute_result"
    }
   ],
   "source": [
    "less_60"
   ]
  },
  {
   "cell_type": "code",
   "execution_count": 35,
   "id": "82c11656",
   "metadata": {},
   "outputs": [],
   "source": [
    "max=np.max(marks)"
   ]
  },
  {
   "cell_type": "code",
   "execution_count": 36,
   "id": "a133208e",
   "metadata": {},
   "outputs": [
    {
     "data": {
      "text/plain": [
       "97"
      ]
     },
     "execution_count": 36,
     "metadata": {},
     "output_type": "execute_result"
    }
   ],
   "source": [
    "max"
   ]
  },
  {
   "cell_type": "code",
   "execution_count": 37,
   "id": "fff2c47e",
   "metadata": {},
   "outputs": [
    {
     "data": {
      "text/plain": [
       "dtype('int16')"
      ]
     },
     "execution_count": 37,
     "metadata": {},
     "output_type": "execute_result"
    }
   ],
   "source": [
    "marks.dtype"
   ]
  },
  {
   "cell_type": "code",
   "execution_count": 39,
   "id": "89ca9f3c",
   "metadata": {},
   "outputs": [
    {
     "data": {
      "text/plain": [
       "dtype('float32')"
      ]
     },
     "execution_count": 39,
     "metadata": {},
     "output_type": "execute_result"
    }
   ],
   "source": [
    "marks=marks.astype('float32')\n",
    "marks.dtype"
   ]
  },
  {
   "cell_type": "markdown",
   "id": "f80576d1",
   "metadata": {},
   "source": [
    "Solving Linear Equations\n",
    "2x + 3y - z = 10\n",
    "\n",
    "x - y + 2z = 5\n",
    "\n",
    "3x + 2y + z = 12\n",
    "\n",
    "2x + y - z + 3w = 8\n",
    "\n",
    "3x - 2y + 2z + 2w = 1\n",
    "\n",
    "x + 3y - 2z + w = 7\n",
    "\n",
    "4x - y + z - 2w = 3\n",
    "\n",
    "4x + 2y - 3z = 10\n",
    "\n",
    "-2x + 3y + z = -3\n",
    "\n",
    "x - y + 2z = 4\n",
    "\n",
    "Solve the system of equations using NumPy's linalg.solve function."
   ]
  },
  {
   "cell_type": "code",
   "execution_count": 43,
   "id": "a0098ca8",
   "metadata": {},
   "outputs": [
    {
     "data": {
      "text/plain": [
       "array([-6.75539944e+15,  6.75539944e+15,  6.75539944e+15])"
      ]
     },
     "execution_count": 43,
     "metadata": {},
     "output_type": "execute_result"
    }
   ],
   "source": [
    "a=np.array([[2,3,-1],[1,-1,2],[3,2,1]])\n",
    "b=np.array([10,5,12])\n",
    "np.linalg.solve(a,b)"
   ]
  },
  {
   "cell_type": "code",
   "execution_count": 46,
   "id": "880e3bad",
   "metadata": {},
   "outputs": [
    {
     "data": {
      "text/plain": [
       "array([ 1.73170732, -0.75609756, -3.46341463,  0.6097561 ])"
      ]
     },
     "execution_count": 46,
     "metadata": {},
     "output_type": "execute_result"
    }
   ],
   "source": [
    "c=np.array([[2,1,-1,3],[3,-2,2,2],[1,3,-2,1],[4,-1,1,-2]])\n",
    "d=np.array([8,1,7,3])\n",
    "np.linalg.solve(c,d)"
   ]
  },
  {
   "cell_type": "code",
   "execution_count": 47,
   "id": "f951075f",
   "metadata": {},
   "outputs": [
    {
     "data": {
      "text/plain": [
       "array([2.85365854, 0.6097561 , 0.87804878])"
      ]
     },
     "execution_count": 47,
     "metadata": {},
     "output_type": "execute_result"
    }
   ],
   "source": [
    "e=np.array([[4,2,-3],[-2,3,1],[1,-1,2]])\n",
    "f=np.array([10,-3,4])\n",
    "np.linalg.solve(e,f)"
   ]
  },
  {
   "cell_type": "markdown",
   "id": "d65eede7",
   "metadata": {},
   "source": [
    "Conditional Selection with np.where()\n",
    "​\n",
    "1.  Generate a random 1D array A of 10 integers between 1 and 100.\n",
    "​\n",
    "2.  Use np.where() to find the indices where the elements of A are greater than 50.\n",
    "​\n",
    "3.  Create a new array B that contains elements from A where the condition is met.\n",
    "​\n",
    "4.  Calculate the mean of array B and print it along with arrays A and B."
   ]
  },
  {
   "cell_type": "code",
   "execution_count": 48,
   "id": "649b3d91",
   "metadata": {},
   "outputs": [],
   "source": [
    "import random\n"
   ]
  },
  {
   "cell_type": "code",
   "execution_count": 49,
   "id": "07db12ea",
   "metadata": {},
   "outputs": [],
   "source": [
    "A=np.random.randint(1,100,10)"
   ]
  },
  {
   "cell_type": "code",
   "execution_count": 50,
   "id": "f3a61d81",
   "metadata": {},
   "outputs": [
    {
     "data": {
      "text/plain": [
       "array([93, 94, 71, 58, 80,  5, 56, 70, 14, 99])"
      ]
     },
     "execution_count": 50,
     "metadata": {},
     "output_type": "execute_result"
    }
   ],
   "source": [
    "A"
   ]
  },
  {
   "cell_type": "code",
   "execution_count": 54,
   "id": "10b49d19",
   "metadata": {},
   "outputs": [
    {
     "data": {
      "text/plain": [
       "array([93, 94, 71, 58, 80, 56, 70, 99])"
      ]
     },
     "execution_count": 54,
     "metadata": {},
     "output_type": "execute_result"
    }
   ],
   "source": [
    "c=A[np.where(A>50)]\n",
    "c"
   ]
  },
  {
   "cell_type": "code",
   "execution_count": 56,
   "id": "8b085de0",
   "metadata": {},
   "outputs": [
    {
     "data": {
      "text/plain": [
       "array([93, 94, 71, 58, 80, 56, 70, 99])"
      ]
     },
     "execution_count": 56,
     "metadata": {},
     "output_type": "execute_result"
    }
   ],
   "source": [
    "B=c\n",
    "B"
   ]
  },
  {
   "cell_type": "code",
   "execution_count": 58,
   "id": "11dd2959",
   "metadata": {},
   "outputs": [
    {
     "name": "stdout",
     "output_type": "stream",
     "text": [
      "77.625\n",
      "[93 94 71 58 80  5 56 70 14 99]\n",
      "[93 94 71 58 80 56 70 99]\n"
     ]
    }
   ],
   "source": [
    "print(np.mean(B))\n",
    "print(A)\n",
    "print(B)"
   ]
  },
  {
   "cell_type": "markdown",
   "id": "d62e2fa3",
   "metadata": {},
   "source": [
    "Replace Values with np.where()\n",
    "\n",
    "Create a 4x4 random integer matrix C with values between -10 and 10.\n",
    "\n",
    "Use np.where() to replace all negative values in matrix C with 0.\n",
    "\n",
    "Print the original matrix C and the modified matrix."
   ]
  },
  {
   "cell_type": "code",
   "execution_count": 60,
   "id": "9468649a",
   "metadata": {},
   "outputs": [
    {
     "data": {
      "text/plain": [
       "array([[ 9, -9, -5, -5],\n",
       "       [ 3, -6, -4,  9],\n",
       "       [ 7, -4,  2, -9],\n",
       "       [ 5,  4, -4, -2]])"
      ]
     },
     "execution_count": 60,
     "metadata": {},
     "output_type": "execute_result"
    }
   ],
   "source": [
    "C=np.random.randint(-10,10,16).reshape(4,4)\n",
    "C"
   ]
  },
  {
   "cell_type": "code",
   "execution_count": 61,
   "id": "fe9e3916",
   "metadata": {},
   "outputs": [
    {
     "data": {
      "text/plain": [
       "array([[9, 0, 0, 0],\n",
       "       [3, 0, 0, 9],\n",
       "       [7, 0, 2, 0],\n",
       "       [5, 4, 0, 0]])"
      ]
     },
     "execution_count": 61,
     "metadata": {},
     "output_type": "execute_result"
    }
   ],
   "source": [
    "c=np.where(C<0,0,C)\n",
    "c\n"
   ]
  },
  {
   "cell_type": "code",
   "execution_count": 63,
   "id": "5ab8307e",
   "metadata": {},
   "outputs": [
    {
     "name": "stdout",
     "output_type": "stream",
     "text": [
      "Original matrix\n",
      " [[ 9 -9 -5 -5]\n",
      " [ 3 -6 -4  9]\n",
      " [ 7 -4  2 -9]\n",
      " [ 5  4 -4 -2]] \n",
      " \n",
      " Modified matrix \n",
      " [[9 0 0 0]\n",
      " [3 0 0 9]\n",
      " [7 0 2 0]\n",
      " [5 4 0 0]]\n"
     ]
    }
   ],
   "source": [
    "print(f\"Original matrix\\n {C} \\n \\n Modified matrix \\n {c}\")"
   ]
  },
  {
   "cell_type": "code",
   "execution_count": null,
   "id": "d8f96435",
   "metadata": {},
   "outputs": [],
   "source": []
  }
 ],
 "metadata": {
  "kernelspec": {
   "display_name": "Python 3 (ipykernel)",
   "language": "python",
   "name": "python3"
  },
  "language_info": {
   "codemirror_mode": {
    "name": "ipython",
    "version": 3
   },
   "file_extension": ".py",
   "mimetype": "text/x-python",
   "name": "python",
   "nbconvert_exporter": "python",
   "pygments_lexer": "ipython3",
   "version": "3.11.4"
  }
 },
 "nbformat": 4,
 "nbformat_minor": 5
}
