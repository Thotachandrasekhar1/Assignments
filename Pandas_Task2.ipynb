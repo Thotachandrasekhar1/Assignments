{
 "cells": [
  {
   "cell_type": "markdown",
   "id": "b8ece690",
   "metadata": {},
   "source": [
    "\n",
    "1. What are the column names in the Iris dataset?\n",
    "2. How many rows and columns are there in the dataset?\n",
    "3. Can you provide a summary of the dataset, including mean, median, and other statistics for each feature?\n",
    "4. What is the average sepal length?\n",
    "5. what is the largest petal length, and what is its value? \n",
    "6. What is the mean and standard deviation of petal width for the Setosa species?\n",
    "7. Check for missing values in the dataset \n",
    "8. Extract the `Species` column using loc and iloc method\n",
    "9. Drop `sepal Width` column\n",
    "10. Get `petalwidth` 10th value using at and iat"
   ]
  },
  {
   "cell_type": "markdown",
   "id": "0f0dd21f",
   "metadata": {},
   "source": [
    "\n",
    "1. What are the column names in the Iris dataset?\n"
   ]
  },
  {
   "cell_type": "code",
   "execution_count": null,
   "id": "c681b189",
   "metadata": {},
   "outputs": [],
   "source": []
  }
 ],
 "metadata": {
  "kernelspec": {
   "display_name": "Python 3 (ipykernel)",
   "language": "python",
   "name": "python3"
  },
  "language_info": {
   "codemirror_mode": {
    "name": "ipython",
    "version": 3
   },
   "file_extension": ".py",
   "mimetype": "text/x-python",
   "name": "python",
   "nbconvert_exporter": "python",
   "pygments_lexer": "ipython3",
   "version": "3.11.4"
  }
 },
 "nbformat": 4,
 "nbformat_minor": 5
}
