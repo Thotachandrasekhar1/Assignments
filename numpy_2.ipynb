{
 "cells": [
  {
   "cell_type": "markdown",
   "id": "e4decde1",
   "metadata": {},
   "source": [
    "**Creation of ndarray**\n",
    "\n",
    "1. Write python code to create 3d array in different ways with 15 elements.\n",
    "2. Array Creation:\n",
    "a. Create a 4D NumPy array containing the first 12 positive integers as arr1.\n",
    "b. Create a 3D NumPy array1 with 20 random elements containing integers between 0 and 1.\n",
    "3. Find all attributes of array1 and array2\n",
    "4. Apply measure and describe the data (attributes and descriptive statistics) to above arrays using NumPy.\n",
    "\n",
    "\n",
    "**Array Slicing and Indexing:**\n",
    "\n",
    "a. Creating Arrays:\n",
    "      - Create a 1-dimensional NumPy array  arr1 with the values [0, 11, 26, 73, 42, 51, 6,77, 8,29].\n",
    "      - Create a 2-dimensional NumPy array  arr2  with the values  [[0, 1, 2], [3, 4, 5], [6, 7, 8]].\n",
    "      \n",
    " b.Basic Indexing:\n",
    "      - Print the element at index 3 of  arr1.\n",
    "      - Print the element at row 2, column 1 of  arr2\n",
    "\n",
    "   c. Array Slicing:\n",
    "      - Print the first five elements of `arr1`.\n",
    "      - Print the subarray of `arr2` consisting of the last two rows and the first two columns.\n",
    "       - Print every second element starting from index 1 up to index 7 of `arr1`.\n",
    "\n",
    "\n",
    "\n",
    "\n",
    "\n",
    "\n",
    "\n",
    "**Data Type Manipulation**\n",
    "\n",
    "a. Creating Arrays with Specific Data Types:\n",
    "      - Create a 1-dimensional NumPy array `int_array` with the values `[1, 2, 3, 4, 5]` and the data type `int16`.\n",
    "      - Create a 1-dimensional NumPy array `float_array` with the values `[0.1, 0.2, 0.3, 0.4, 0.5]` and the data type `float64`.\n",
    "      \n",
    "b. Data Type Conversion:\n",
    "      - Convert the `float_array` to an array with data type `int32`. Print the result.\n",
    "      - Convert the `int_array` to an array with data type `float32`. Print the result.\n",
    "\n",
    "**Generating Random Numbers:**\n",
    "\n",
    "1.\tUse numpy.random.randint() to create an array rand_integers containing 10 random integers between 0 and 100 (inclusive).\n",
    "\n",
    "2.\tUse numpy.random.uniform() to create an array rand_uniform containing 5 random numbers sampled from a uniform distribution between -1 and 1.\n",
    "\n",
    "3.\tCreate an array rand_matrix with random integers between 50 and 100 (inclusive).and reshape it to 2-dimensional (4 x 4) matrix\n",
    "\n",
    "4.\tApply descriptive statistics for rand_matrix.\n",
    "\n",
    "\n",
    "**Analyze the Data:**\n",
    "\n",
    "Salaries = [87877, 54494, 54804, 85051, 52453, 31250, 94868, 66349, 39828, 60501, 58570, 74906, 41671, 51428, 56414, 98446, 56819, 82833, 50477, 62898, 99658, 89224, 34225, 79172, 32199, 63795, 90947, 55723, 64557, 3113638]\n",
    "\n",
    "\n",
    "\n",
    "\n",
    "Describe the data using numpy array.\n",
    "Measure the following:\n",
    "1.\tHow many employees are getting more less than 50000?\n",
    "\n",
    "2.\tIs it following Normal Distribution?\n",
    "\n",
    "3.\tWhat is the median salary?\n",
    "\n",
    "4.\tWhat is the range of salaries for this company?\n",
    "\n",
    "5.\tFind the salaries between average salary and 75% of salaries?\n",
    "\n",
    "6.\tHow many employees are getting less than 25 % of salaries ?\n",
    "\n"
   ]
  },
  {
   "cell_type": "markdown",
   "id": "42a081e4",
   "metadata": {},
   "source": [
    "Creation of ndarray\n",
    "\n",
    "Write python code to create 3d array in different ways with 15 elements.\n",
    "Array Creation: a. Create a 4D NumPy array containing the first 12 positive integers as arr1. b. Create a 3D NumPy array1 with 20 random elements containing integers between 0 and 1.\n",
    "Find all attributes of array1 and array2\n",
    "Apply measure and describe the data (attributes and descriptive statistics) to above arrays using NumPy."
   ]
  },
  {
   "cell_type": "code",
   "execution_count": 1,
   "id": "3e51067c",
   "metadata": {},
   "outputs": [],
   "source": [
    "import numpy as np"
   ]
  },
  {
   "cell_type": "code",
   "execution_count": 7,
   "id": "1bb949e7",
   "metadata": {},
   "outputs": [
    {
     "data": {
      "text/plain": [
       "array([[[ 1,  2,  3,  4,  5,  6,  7,  8,  9, 10, 11, 12, 13, 14, 15]]])"
      ]
     },
     "execution_count": 7,
     "metadata": {},
     "output_type": "execute_result"
    }
   ],
   "source": [
    "a=np.array([[[1,2,3,4,5,6,7,8,9,10,11,12,13,14,15]]])\n",
    "a"
   ]
  },
  {
   "cell_type": "code",
   "execution_count": 9,
   "id": "aec94da8",
   "metadata": {},
   "outputs": [
    {
     "data": {
      "text/plain": [
       "array([[[ 1,  2,  3,  4,  5,  6,  7,  8,  9, 10, 11, 12, 13, 14, 15]]])"
      ]
     },
     "execution_count": 9,
     "metadata": {},
     "output_type": "execute_result"
    }
   ],
   "source": [
    "b=np.array([1,2,3,4,5,6,7,8,9,10,11,12,13,14,15],ndmin=3)\n",
    "b"
   ]
  },
  {
   "cell_type": "code",
   "execution_count": 16,
   "id": "828f1b31",
   "metadata": {},
   "outputs": [
    {
     "data": {
      "text/plain": [
       "array([[[[ 1,  2,  3],\n",
       "         [ 4,  5,  6],\n",
       "         [ 7,  8,  9],\n",
       "         [10, 11, 12]]]])"
      ]
     },
     "execution_count": 16,
     "metadata": {},
     "output_type": "execute_result"
    }
   ],
   "source": [
    "arr1 = np.arange(1,13).reshape(1,1,4,3)\n",
    "arr1"
   ]
  },
  {
   "cell_type": "code",
   "execution_count": 12,
   "id": "fc0eac97",
   "metadata": {},
   "outputs": [
    {
     "data": {
      "text/plain": [
       "array([[[ 1,  2,  3,  4,  5],\n",
       "        [ 6,  7,  8,  9, 10],\n",
       "        [11, 12, 13, 14, 15]]])"
      ]
     },
     "execution_count": 12,
     "metadata": {},
     "output_type": "execute_result"
    }
   ],
   "source": [
    "b.reshape(1,3,5)\n"
   ]
  },
  {
   "cell_type": "code",
   "execution_count": 13,
   "id": "3b855676",
   "metadata": {},
   "outputs": [
    {
     "data": {
      "text/plain": [
       "array([[ 1,  2,  3,  4,  5],\n",
       "       [ 6,  7,  8,  9, 10],\n",
       "       [11, 12, 13, 14, 15]])"
      ]
     },
     "execution_count": 13,
     "metadata": {},
     "output_type": "execute_result"
    }
   ],
   "source": [
    "np.arange(1,16).reshape(3,5)"
   ]
  },
  {
   "cell_type": "markdown",
   "id": "318c1777",
   "metadata": {},
   "source": []
  },
  {
   "cell_type": "code",
   "execution_count": 15,
   "id": "f05bd499",
   "metadata": {},
   "outputs": [
    {
     "data": {
      "text/plain": [
       "array([[[0.21043129, 0.08536429, 0.8152328 , 0.0853012 , 0.17495314],\n",
       "        [0.77683683, 0.27217932, 0.25766967, 0.84520632, 0.41385565],\n",
       "        [0.56480284, 0.94692332, 0.20157883, 0.92637762, 0.6898488 ],\n",
       "        [0.75022202, 0.35347187, 0.42620667, 0.52424676, 0.07395098]]])"
      ]
     },
     "execution_count": 15,
     "metadata": {},
     "output_type": "execute_result"
    }
   ],
   "source": [
    "array1 = np.random.rand(20).reshape(1,4,5)\n",
    "array1"
   ]
  },
  {
   "cell_type": "markdown",
   "id": "3e6887da",
   "metadata": {},
   "source": [
    "attributes"
   ]
  },
  {
   "cell_type": "code",
   "execution_count": 17,
   "id": "904317cf",
   "metadata": {},
   "outputs": [
    {
     "data": {
      "text/plain": [
       "array([[[[ 1,  2,  3],\n",
       "         [ 4,  5,  6],\n",
       "         [ 7,  8,  9],\n",
       "         [10, 11, 12]]]])"
      ]
     },
     "execution_count": 17,
     "metadata": {},
     "output_type": "execute_result"
    }
   ],
   "source": [
    "arr1\n"
   ]
  },
  {
   "cell_type": "code",
   "execution_count": 18,
   "id": "22c93d48",
   "metadata": {},
   "outputs": [
    {
     "data": {
      "text/plain": [
       "4"
      ]
     },
     "execution_count": 18,
     "metadata": {},
     "output_type": "execute_result"
    }
   ],
   "source": [
    "arr1.ndim"
   ]
  },
  {
   "cell_type": "code",
   "execution_count": 19,
   "id": "a723af6e",
   "metadata": {},
   "outputs": [
    {
     "data": {
      "text/plain": [
       "12"
      ]
     },
     "execution_count": 19,
     "metadata": {},
     "output_type": "execute_result"
    }
   ],
   "source": [
    "arr1.size"
   ]
  },
  {
   "cell_type": "code",
   "execution_count": 20,
   "id": "005a86dc",
   "metadata": {},
   "outputs": [
    {
     "data": {
      "text/plain": [
       "4"
      ]
     },
     "execution_count": 20,
     "metadata": {},
     "output_type": "execute_result"
    }
   ],
   "source": [
    "arr1.itemsize"
   ]
  },
  {
   "cell_type": "code",
   "execution_count": 21,
   "id": "4cadbfe8",
   "metadata": {},
   "outputs": [
    {
     "data": {
      "text/plain": [
       "48"
      ]
     },
     "execution_count": 21,
     "metadata": {},
     "output_type": "execute_result"
    }
   ],
   "source": [
    "arr1.nbytes"
   ]
  },
  {
   "cell_type": "code",
   "execution_count": 23,
   "id": "5be87859",
   "metadata": {},
   "outputs": [
    {
     "data": {
      "text/plain": [
       "dtype('int32')"
      ]
     },
     "execution_count": 23,
     "metadata": {},
     "output_type": "execute_result"
    }
   ],
   "source": [
    "arr1.dtype"
   ]
  },
  {
   "cell_type": "markdown",
   "id": "b603d257",
   "metadata": {},
   "source": [
    "stat"
   ]
  },
  {
   "cell_type": "code",
   "execution_count": 24,
   "id": "9fcb7ca5",
   "metadata": {},
   "outputs": [
    {
     "data": {
      "text/plain": [
       "array([[[[ 1,  2,  3],\n",
       "         [ 4,  5,  6],\n",
       "         [ 7,  8,  9],\n",
       "         [10, 11, 12]]]])"
      ]
     },
     "execution_count": 24,
     "metadata": {},
     "output_type": "execute_result"
    }
   ],
   "source": [
    "arr1"
   ]
  },
  {
   "cell_type": "code",
   "execution_count": 26,
   "id": "c81551ab",
   "metadata": {},
   "outputs": [
    {
     "data": {
      "text/plain": [
       "6.5"
      ]
     },
     "execution_count": 26,
     "metadata": {},
     "output_type": "execute_result"
    }
   ],
   "source": [
    "arr1.mean()"
   ]
  },
  {
   "cell_type": "code",
   "execution_count": 27,
   "id": "52ce2c54",
   "metadata": {},
   "outputs": [
    {
     "data": {
      "text/plain": [
       "6.5"
      ]
     },
     "execution_count": 27,
     "metadata": {},
     "output_type": "execute_result"
    }
   ],
   "source": [
    "np.median(arr1)"
   ]
  },
  {
   "cell_type": "code",
   "execution_count": 28,
   "id": "1b205c4c",
   "metadata": {},
   "outputs": [
    {
     "data": {
      "text/plain": [
       "11.916666666666666"
      ]
     },
     "execution_count": 28,
     "metadata": {},
     "output_type": "execute_result"
    }
   ],
   "source": [
    "arr1.var()"
   ]
  },
  {
   "cell_type": "code",
   "execution_count": 29,
   "id": "3af2dcb2",
   "metadata": {},
   "outputs": [
    {
     "data": {
      "text/plain": [
       "3.452052529534663"
      ]
     },
     "execution_count": 29,
     "metadata": {},
     "output_type": "execute_result"
    }
   ],
   "source": [
    "arr1.std()"
   ]
  },
  {
   "cell_type": "code",
   "execution_count": 31,
   "id": "d31c202e",
   "metadata": {},
   "outputs": [
    {
     "data": {
      "text/plain": [
       "11"
      ]
     },
     "execution_count": 31,
     "metadata": {},
     "output_type": "execute_result"
    }
   ],
   "source": [
    "range = arr1.max()-arr1.min()\n",
    "range"
   ]
  },
  {
   "cell_type": "code",
   "execution_count": 33,
   "id": "2b57fac9",
   "metadata": {},
   "outputs": [
    {
     "data": {
      "text/plain": [
       "3.75"
      ]
     },
     "execution_count": 33,
     "metadata": {},
     "output_type": "execute_result"
    }
   ],
   "source": [
    "q1 = np.percentile(arr1,25)\n",
    "q1"
   ]
  },
  {
   "cell_type": "code",
   "execution_count": 34,
   "id": "93e9410d",
   "metadata": {},
   "outputs": [
    {
     "data": {
      "text/plain": [
       "9.25"
      ]
     },
     "execution_count": 34,
     "metadata": {},
     "output_type": "execute_result"
    }
   ],
   "source": [
    "q3 = np.percentile(arr1,75)\n",
    "q3"
   ]
  },
  {
   "cell_type": "code",
   "execution_count": 35,
   "id": "2c8fe6d2",
   "metadata": {},
   "outputs": [
    {
     "data": {
      "text/plain": [
       "5.5"
      ]
     },
     "execution_count": 35,
     "metadata": {},
     "output_type": "execute_result"
    }
   ],
   "source": [
    "IQR=q3-q1\n",
    "IQR"
   ]
  },
  {
   "cell_type": "code",
   "execution_count": 36,
   "id": "1dc371e4",
   "metadata": {},
   "outputs": [],
   "source": [
    "lower = q1 - (1.5*IQR)\n",
    "upper = q3 + (1.5*IQR)\n"
   ]
  },
  {
   "cell_type": "code",
   "execution_count": 39,
   "id": "ae1088ea",
   "metadata": {},
   "outputs": [
    {
     "data": {
      "text/plain": [
       "17.5"
      ]
     },
     "execution_count": 39,
     "metadata": {},
     "output_type": "execute_result"
    }
   ],
   "source": [
    "upper"
   ]
  },
  {
   "cell_type": "code",
   "execution_count": 38,
   "id": "e25c0f0a",
   "metadata": {},
   "outputs": [
    {
     "data": {
      "text/plain": [
       "-4.5"
      ]
     },
     "execution_count": 38,
     "metadata": {},
     "output_type": "execute_result"
    }
   ],
   "source": [
    "lower"
   ]
  },
  {
   "cell_type": "code",
   "execution_count": 41,
   "id": "d495fde6",
   "metadata": {},
   "outputs": [
    {
     "data": {
      "text/plain": [
       "array([], dtype=int32)"
      ]
     },
     "execution_count": 41,
     "metadata": {},
     "output_type": "execute_result"
    }
   ],
   "source": [
    "arr1[arr1>upper]\n"
   ]
  },
  {
   "cell_type": "code",
   "execution_count": 42,
   "id": "e0672ebf",
   "metadata": {},
   "outputs": [
    {
     "data": {
      "text/plain": [
       "array([], dtype=int32)"
      ]
     },
     "execution_count": 42,
     "metadata": {},
     "output_type": "execute_result"
    }
   ],
   "source": [
    "arr1[arr1<lower]\n"
   ]
  },
  {
   "cell_type": "markdown",
   "id": "55363c06",
   "metadata": {},
   "source": [
    "Array Slicing and Indexing:\n",
    "\n",
    "a. Creating Arrays: - Create a 1-dimensional NumPy array arr1 with the values [0, 11, 26, 73, 42, 51, 6,77, 8,29]. - Create a 2-dimensional NumPy array arr2 with the values [[0, 1, 2], [3, 4, 5], [6, 7, 8]].\n",
    "\n",
    "b.Basic Indexing: - Print the element at index 3 of arr1. - Print the element at row 2, column 1 of arr2\n",
    "\n",
    "c. Array Slicing: - Print the first five elements of arr1. - Print the subarray of arr2 consisting of the last two rows and the first two columns. - Print every second element starting from index 1 up to index 7 of arr1."
   ]
  },
  {
   "cell_type": "code",
   "execution_count": 43,
   "id": "1e29225d",
   "metadata": {},
   "outputs": [
    {
     "data": {
      "text/plain": [
       "array([ 0, 11, 26, 73, 42, 51,  6, 77,  8, 29])"
      ]
     },
     "execution_count": 43,
     "metadata": {},
     "output_type": "execute_result"
    }
   ],
   "source": [
    "arr1 = np.array([0, 11, 26, 73, 42, 51, 6,77, 8,29])\n",
    "arr1"
   ]
  },
  {
   "cell_type": "code",
   "execution_count": 46,
   "id": "97e89d11",
   "metadata": {},
   "outputs": [
    {
     "data": {
      "text/plain": [
       "array([[0, 1, 2],\n",
       "       [3, 4, 5],\n",
       "       [6, 7, 8]])"
      ]
     },
     "execution_count": 46,
     "metadata": {},
     "output_type": "execute_result"
    }
   ],
   "source": [
    "arr2 = np.array([[0, 1, 2], [3, 4, 5], [6, 7, 8]])\n",
    "arr2"
   ]
  },
  {
   "cell_type": "code",
   "execution_count": 51,
   "id": "f06a1010",
   "metadata": {},
   "outputs": [
    {
     "data": {
      "text/plain": [
       "73"
      ]
     },
     "execution_count": 51,
     "metadata": {},
     "output_type": "execute_result"
    }
   ],
   "source": [
    "arr1[3]"
   ]
  },
  {
   "cell_type": "code",
   "execution_count": 48,
   "id": "63f42cbe",
   "metadata": {},
   "outputs": [
    {
     "data": {
      "text/plain": [
       "7"
      ]
     },
     "execution_count": 48,
     "metadata": {},
     "output_type": "execute_result"
    }
   ],
   "source": [
    "arr2[2][1]\n"
   ]
  },
  {
   "cell_type": "code",
   "execution_count": 49,
   "id": "4ec0c3c3",
   "metadata": {},
   "outputs": [
    {
     "data": {
      "text/plain": [
       "array([ 0, 11, 26, 73, 42])"
      ]
     },
     "execution_count": 49,
     "metadata": {},
     "output_type": "execute_result"
    }
   ],
   "source": [
    "arr1[:5]\n"
   ]
  },
  {
   "cell_type": "code",
   "execution_count": 55,
   "id": "239fed2e",
   "metadata": {},
   "outputs": [
    {
     "data": {
      "text/plain": [
       "array([[3, 4],\n",
       "       [6, 7]])"
      ]
     },
     "execution_count": 55,
     "metadata": {},
     "output_type": "execute_result"
    }
   ],
   "source": [
    "arr2[1:3,0:2]"
   ]
  },
  {
   "cell_type": "code",
   "execution_count": 56,
   "id": "5b0043d7",
   "metadata": {},
   "outputs": [
    {
     "data": {
      "text/plain": [
       "array([11, 26, 73, 42, 51,  6, 77])"
      ]
     },
     "execution_count": 56,
     "metadata": {},
     "output_type": "execute_result"
    }
   ],
   "source": [
    "arr1[1:8]\n"
   ]
  },
  {
   "cell_type": "markdown",
   "id": "c0490bc0",
   "metadata": {},
   "source": [
    "**Data Type Manipulation**\n",
    "\n",
    "a. Creating Arrays with Specific Data Types:\n",
    "      - Create a 1-dimensional NumPy array `int_array` with the values `[1, 2, 3, 4, 5]` and the data type `int16`.\n",
    "      - Create a 1-dimensional NumPy array `float_array` with the values `[0.1, 0.2, 0.3, 0.4, 0.5]` and the data type `float64`.\n",
    "      \n",
    "b. Data Type Conversion:\n",
    "      - Convert the `float_array` to an array with data type `int32`. Print the result.\n",
    "      - Convert the `int_array` to an array with data type `float32`. Print the result.\n"
   ]
  },
  {
   "cell_type": "code",
   "execution_count": 58,
   "id": "f3203c3a",
   "metadata": {},
   "outputs": [
    {
     "data": {
      "text/plain": [
       "array([1, 2, 3, 4, 5], dtype=int16)"
      ]
     },
     "execution_count": 58,
     "metadata": {},
     "output_type": "execute_result"
    }
   ],
   "source": [
    "n = np.array([1, 2, 3, 4, 5],dtype = \"int16\")\n",
    "n"
   ]
  },
  {
   "cell_type": "code",
   "execution_count": 60,
   "id": "b03c625a",
   "metadata": {},
   "outputs": [
    {
     "data": {
      "text/plain": [
       "dtype('int16')"
      ]
     },
     "execution_count": 60,
     "metadata": {},
     "output_type": "execute_result"
    }
   ],
   "source": [
    "n.dtype"
   ]
  },
  {
   "cell_type": "code",
   "execution_count": 62,
   "id": "98f38d58",
   "metadata": {},
   "outputs": [
    {
     "data": {
      "text/plain": [
       "array([0.1, 0.2, 0.3, 0.4, 0.5])"
      ]
     },
     "execution_count": 62,
     "metadata": {},
     "output_type": "execute_result"
    }
   ],
   "source": [
    "n = np.array([0.1, 0.2, 0.3, 0.4, 0.5],dtype = \"float64\")\n",
    "n\n"
   ]
  },
  {
   "cell_type": "code",
   "execution_count": 63,
   "id": "9ed6eaf9",
   "metadata": {},
   "outputs": [
    {
     "data": {
      "text/plain": [
       "dtype('float64')"
      ]
     },
     "execution_count": 63,
     "metadata": {},
     "output_type": "execute_result"
    }
   ],
   "source": [
    "n.dtype\n"
   ]
  },
  {
   "cell_type": "code",
   "execution_count": 66,
   "id": "23f76ecf",
   "metadata": {},
   "outputs": [
    {
     "data": {
      "text/plain": [
       "dtype('int32')"
      ]
     },
     "execution_count": 66,
     "metadata": {},
     "output_type": "execute_result"
    }
   ],
   "source": [
    "num = np.array([0.1, 0.2, 0.3, 0.4, 0.5],dtype = \"int32\")\n",
    "num.dtype"
   ]
  },
  {
   "cell_type": "code",
   "execution_count": 67,
   "id": "c3b4ba8e",
   "metadata": {},
   "outputs": [
    {
     "data": {
      "text/plain": [
       "array([1., 2., 3., 4., 5.], dtype=float32)"
      ]
     },
     "execution_count": 67,
     "metadata": {},
     "output_type": "execute_result"
    }
   ],
   "source": [
    "num = np.array([1, 2, 3, 4, 5],dtype = \"float32\")\n",
    "num"
   ]
  },
  {
   "cell_type": "markdown",
   "id": "b706b507",
   "metadata": {},
   "source": [
    "\n",
    "**Generating Random Numbers:**\n",
    "\n",
    "1.\tUse numpy.random.randint() to create an array rand_integers containing 10 random integers between 0 and 100 (inclusive).\n",
    "\n",
    "2.\tUse numpy.random.uniform() to create an array rand_uniform containing 5 random numbers sampled from a uniform distribution between -1 and 1.\n",
    "\n",
    "3.\tCreate an array rand_matrix with random integers between 50 and 100 (inclusive).and reshape it to 2-dimensional (4 x 4) matrix\n",
    "\n",
    "4.\tApply descriptive statistics for rand_matrix."
   ]
  },
  {
   "cell_type": "code",
   "execution_count": 68,
   "id": "23dcfed9",
   "metadata": {},
   "outputs": [
    {
     "data": {
      "text/plain": [
       "array([ 0, 24, 43, 97, 28, 78, 71,  4, 52, 77])"
      ]
     },
     "execution_count": 68,
     "metadata": {},
     "output_type": "execute_result"
    }
   ],
   "source": [
    "n = np.random.randint(0,101,10)\n",
    "n"
   ]
  },
  {
   "cell_type": "code",
   "execution_count": 69,
   "id": "76a42e71",
   "metadata": {},
   "outputs": [
    {
     "data": {
      "text/plain": [
       "array([ 0.5294463 , -0.70334123,  0.68141253,  0.00602129, -0.88829337])"
      ]
     },
     "execution_count": 69,
     "metadata": {},
     "output_type": "execute_result"
    }
   ],
   "source": [
    "np.random.uniform(-1,1,5)\n"
   ]
  },
  {
   "cell_type": "code",
   "execution_count": 70,
   "id": "863e9568",
   "metadata": {},
   "outputs": [
    {
     "data": {
      "text/plain": [
       "array([[55, 76, 95, 55],\n",
       "       [64, 77, 92, 98],\n",
       "       [75, 66, 59, 73],\n",
       "       [56, 99, 54, 72]])"
      ]
     },
     "execution_count": 70,
     "metadata": {},
     "output_type": "execute_result"
    }
   ],
   "source": [
    "rand_matrix = np.random.randint(50,101,16).reshape(4,4)\n",
    "rand_matrix"
   ]
  },
  {
   "cell_type": "markdown",
   "id": "2402605b",
   "metadata": {},
   "source": [
    "stat"
   ]
  },
  {
   "cell_type": "code",
   "execution_count": 71,
   "id": "252ca1f8",
   "metadata": {},
   "outputs": [
    {
     "data": {
      "text/plain": [
       "array([[55, 76, 95, 55],\n",
       "       [64, 77, 92, 98],\n",
       "       [75, 66, 59, 73],\n",
       "       [56, 99, 54, 72]])"
      ]
     },
     "execution_count": 71,
     "metadata": {},
     "output_type": "execute_result"
    }
   ],
   "source": [
    "rand_matrix.mean()\n",
    "rand_matrix"
   ]
  },
  {
   "cell_type": "code",
   "execution_count": 72,
   "id": "3aaabff2",
   "metadata": {},
   "outputs": [
    {
     "data": {
      "text/plain": [
       "72.5"
      ]
     },
     "execution_count": 72,
     "metadata": {},
     "output_type": "execute_result"
    }
   ],
   "source": [
    "np.median(rand_matrix)\n"
   ]
  },
  {
   "cell_type": "code",
   "execution_count": 73,
   "id": "bdeeef09",
   "metadata": {},
   "outputs": [
    {
     "data": {
      "text/plain": [
       "45"
      ]
     },
     "execution_count": 73,
     "metadata": {},
     "output_type": "execute_result"
    }
   ],
   "source": [
    "rand_matrix.max()-rand_matrix.min()  \n"
   ]
  },
  {
   "cell_type": "code",
   "execution_count": 74,
   "id": "c5fd435d",
   "metadata": {},
   "outputs": [
    {
     "data": {
      "text/plain": [
       "15.410528057143273"
      ]
     },
     "execution_count": 74,
     "metadata": {},
     "output_type": "execute_result"
    }
   ],
   "source": [
    "rand_matrix.std()\n"
   ]
  },
  {
   "cell_type": "code",
   "execution_count": 75,
   "id": "d5764a43",
   "metadata": {},
   "outputs": [
    {
     "data": {
      "text/plain": [
       "array([[55, 76, 95, 55],\n",
       "       [64, 77, 92, 98],\n",
       "       [75, 66, 59, 73],\n",
       "       [56, 99, 54, 72]])"
      ]
     },
     "execution_count": 75,
     "metadata": {},
     "output_type": "execute_result"
    }
   ],
   "source": [
    "rand_matrix.var()\n",
    "rand_matrix"
   ]
  },
  {
   "cell_type": "code",
   "execution_count": 76,
   "id": "7521f88a",
   "metadata": {},
   "outputs": [],
   "source": [
    "q1 = np.percentile(rand_matrix,25)\n",
    "\n",
    "q3 = np.percentile(rand_matrix,75)\n"
   ]
  },
  {
   "cell_type": "code",
   "execution_count": 77,
   "id": "476f67e6",
   "metadata": {},
   "outputs": [],
   "source": [
    "IQR = q3-q1\n"
   ]
  },
  {
   "cell_type": "code",
   "execution_count": 78,
   "id": "854fc4a8",
   "metadata": {},
   "outputs": [
    {
     "data": {
      "text/plain": [
       "array([], dtype=int32)"
      ]
     },
     "execution_count": 78,
     "metadata": {},
     "output_type": "execute_result"
    }
   ],
   "source": [
    "lower = q1 - (1.5 * IQR)\n",
    "upper = q3 + (1.5 * IQR)\n",
    "rand_matrix[rand_matrix < lower]"
   ]
  },
  {
   "cell_type": "code",
   "execution_count": 79,
   "id": "933f3c5c",
   "metadata": {},
   "outputs": [
    {
     "data": {
      "text/plain": [
       "array([], dtype=int32)"
      ]
     },
     "execution_count": 79,
     "metadata": {},
     "output_type": "execute_result"
    }
   ],
   "source": [
    "rand_matrix[rand_matrix > upper]\n"
   ]
  },
  {
   "cell_type": "markdown",
   "id": "df0aa26a",
   "metadata": {},
   "source": [
    "**Analyze the Data:**\n",
    "\n",
    "Salaries = [87877, 54494, 54804, 85051, 52453, 31250, 94868, 66349, 39828, 60501, 58570, 74906, 41671, 51428, 56414, 98446, 56819, 82833, 50477, 62898, 99658, 89224, 34225, 79172, 32199, 63795, 90947, 55723, 64557, 3113638]\n",
    "\n",
    "\n",
    "\n",
    "\n",
    "Describe the data using numpy array.\n",
    "Measure the following:\n",
    "1.\tHow many employees are getting more less than 50000?\n",
    "\n",
    "2.\tIs it following Normal Distribution?\n",
    "\n",
    "3.\tWhat is the median salary?\n",
    "\n",
    "4.\tWhat is the range of salaries for this company?\n",
    "\n",
    "5.\tFind the salaries between average salary and 75% of salaries?\n",
    "\n",
    "6.\tHow many employees are getting less than 25 % of salaries ?\n"
   ]
  },
  {
   "cell_type": "code",
   "execution_count": 80,
   "id": "76cd06ef",
   "metadata": {},
   "outputs": [],
   "source": [
    "salaries = np.array([87877, 54494, 54804, 85051, 52453, 31250, 94868, 66349, 39828, 60501, 58570, 74906, 41671, 51428, 56414, 98446, 56819, 82833, 50477, 62898, 99658, 89224, 34225, 79172, 32199, 63795, 90947, 55723, 64557, 3113638])\n"
   ]
  },
  {
   "cell_type": "code",
   "execution_count": 81,
   "id": "46f8862b",
   "metadata": {},
   "outputs": [
    {
     "data": {
      "text/plain": [
       "array([31250, 39828, 41671, 34225, 32199])"
      ]
     },
     "execution_count": 81,
     "metadata": {},
     "output_type": "execute_result"
    }
   ],
   "source": [
    "salaries[salaries < 50000]\n"
   ]
  },
  {
   "cell_type": "markdown",
   "id": "70abdec2",
   "metadata": {},
   "source": [
    "Normal distribution"
   ]
  },
  {
   "cell_type": "code",
   "execution_count": 82,
   "id": "ca60d643",
   "metadata": {},
   "outputs": [
    {
     "data": {
      "text/plain": [
       "61699.5"
      ]
     },
     "execution_count": 82,
     "metadata": {},
     "output_type": "execute_result"
    }
   ],
   "source": [
    "np.median(salaries)\n"
   ]
  },
  {
   "cell_type": "code",
   "execution_count": 83,
   "id": "502ed15e",
   "metadata": {},
   "outputs": [
    {
     "data": {
      "text/plain": [
       "3082388"
      ]
     },
     "execution_count": 83,
     "metadata": {},
     "output_type": "execute_result"
    }
   ],
   "source": [
    "salaries.max() - salaries.min()   \n"
   ]
  },
  {
   "cell_type": "code",
   "execution_count": 85,
   "id": "15f1666e",
   "metadata": {},
   "outputs": [
    {
     "data": {
      "text/plain": [
       "166169.16666666666"
      ]
     },
     "execution_count": 85,
     "metadata": {},
     "output_type": "execute_result"
    }
   ],
   "source": [
    "avg = salaries.mean()\n",
    "q1 = np.percentile(salaries,25)\n",
    "q3 = np.percentile(salaries,75)\n",
    "avg\n"
   ]
  },
  {
   "cell_type": "code",
   "execution_count": 86,
   "id": "692c2ef2",
   "metadata": {},
   "outputs": [
    {
     "data": {
      "text/plain": [
       "84496.5"
      ]
     },
     "execution_count": 86,
     "metadata": {},
     "output_type": "execute_result"
    }
   ],
   "source": [
    "q3\n",
    "\n"
   ]
  },
  {
   "cell_type": "code",
   "execution_count": 87,
   "id": "714c9a37",
   "metadata": {},
   "outputs": [
    {
     "data": {
      "text/plain": [
       "array([87877, 85051, 94868, 98446, 99658, 89224, 90947])"
      ]
     },
     "execution_count": 87,
     "metadata": {},
     "output_type": "execute_result"
    }
   ],
   "source": [
    "salaries[(salaries<avg) & (salaries >= q3)]\n"
   ]
  },
  {
   "cell_type": "code",
   "execution_count": 88,
   "id": "2e90756b",
   "metadata": {},
   "outputs": [
    {
     "data": {
      "text/plain": [
       "52963.25"
      ]
     },
     "execution_count": 88,
     "metadata": {},
     "output_type": "execute_result"
    }
   ],
   "source": [
    "q1"
   ]
  },
  {
   "cell_type": "code",
   "execution_count": 96,
   "id": "f313a3e6",
   "metadata": {},
   "outputs": [
    {
     "data": {
      "text/plain": [
       "8"
      ]
     },
     "execution_count": 96,
     "metadata": {},
     "output_type": "execute_result"
    }
   ],
   "source": [
    "np.sum(salaries < q1)\n"
   ]
  },
  {
   "cell_type": "code",
   "execution_count": null,
   "id": "3c3f0689",
   "metadata": {},
   "outputs": [],
   "source": []
  }
 ],
 "metadata": {
  "kernelspec": {
   "display_name": "Python 3 (ipykernel)",
   "language": "python",
   "name": "python3"
  },
  "language_info": {
   "codemirror_mode": {
    "name": "ipython",
    "version": 3
   },
   "file_extension": ".py",
   "mimetype": "text/x-python",
   "name": "python",
   "nbconvert_exporter": "python",
   "pygments_lexer": "ipython3",
   "version": "3.11.4"
  }
 },
 "nbformat": 4,
 "nbformat_minor": 5
}
